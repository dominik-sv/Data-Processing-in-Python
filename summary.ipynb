{
 "cells": [
  {
   "cell_type": "markdown",
   "metadata": {},
   "source": [
    "# Github\n",
    "- create new repo  on github\n",
    "- navigate to folder in computer\n",
    "- git clone https://github.com/USERNAME/my-new-project.git .\n",
    "- git init"
   ]
  },
  {
   "cell_type": "markdown",
   "metadata": {},
   "source": [
    "# Python"
   ]
  },
  {
   "cell_type": "code",
   "execution_count": null,
   "metadata": {},
   "outputs": [],
   "source": [
    "help()\n",
    "def function_description(args):\n",
    "    '''\n",
    "    this is what the function does\n",
    "    '''\n",
    "    return 0\n",
    "\n",
    "try:\n",
    "    result = 10 / 5\n",
    "except ZeroDivisionError:\n",
    "    print(\"You can't divide by zero!\")\n",
    "else: # runs if exception isn't raised\n",
    "    print(\"Division successful!\")\n",
    "finally: # always runs\n",
    "    print(\"This block will run no matter what.\")\n",
    "\n",
    "sorted()\n",
    "\n",
    "class Dog:\n",
    "    species = \"Canis familiaris\"  # Class attribute, shared by all dogs\n",
    "    # This is the constructor method, called when a new object is created\n",
    "    def __init__(self, name, breed):\n",
    "        # The attributes of the class, initialized in the constructor\n",
    "        self.name = name\n",
    "        self.breed = breed\n",
    "\n",
    "    # This is a method that belongs to the class\n",
    "    def bark(self):\n",
    "        return f\"{self.name} says Woof!\""
   ]
  },
  {
   "cell_type": "markdown",
   "metadata": {},
   "source": [
    "# Numpy"
   ]
  },
  {
   "cell_type": "code",
   "execution_count": null,
   "metadata": {},
   "outputs": [
    {
     "name": "stdout",
     "output_type": "stream",
     "text": [
      "[1 4]\n"
     ]
    }
   ],
   "source": [
    "import numpy as np\n",
    "\n",
    "# Array\n",
    "a = np.array([0, 1, 2])\n",
    "a = np.append(a, 3)\n",
    "np.empty((2, 3))\n",
    "b = np.arange(6).reshape((2, 3))\n",
    "\n",
    "# Analyzing\n",
    "a.shape\n",
    "b[0, 1]\n",
    "b[:, 1]\n",
    "\n",
    "# Broadcasting\n",
    "b.cumsum()\n",
    "b.cumprod()\n",
    "b.argmax()\n",
    "b.flatten()\n",
    "def double(x):\n",
    "    return 2*x\n",
    "b = np.vectorize(double)\n"
   ]
  },
  {
   "cell_type": "markdown",
   "metadata": {},
   "source": [
    "# Pandas"
   ]
  },
  {
   "cell_type": "code",
   "execution_count": null,
   "metadata": {},
   "outputs": [
    {
     "name": "stderr",
     "output_type": "stream",
     "text": [
      "C:\\Users\\svest\\AppData\\Local\\Temp\\ipykernel_18324\\2282290196.py:9: FutureWarning: Series.__getitem__ treating keys as positions is deprecated. In a future version, integer keys will always be treated as labels (consistent with DataFrame behavior). To access a value by position, use `ser.iloc[pos]`\n",
      "  s[0] == s.iloc[0]  # access by position\n"
     ]
    },
    {
     "data": {
      "text/plain": [
       "a  age        10\n",
       "   name    Alice\n",
       "b  age        20\n",
       "   name      Bob\n",
       "c  age        30\n",
       "   name    Carol\n",
       "dtype: object"
      ]
     },
     "execution_count": 33,
     "metadata": {},
     "output_type": "execute_result"
    }
   ],
   "source": [
    "import pandas as pd\n",
    "\n",
    "# Series\n",
    "a = pd.Series([1, 2, 3])\n",
    "b = pd.Series({'cat': 1, 'dog': 2})\n",
    "s = pd.Series([10, 20, 30], index=['a', 'b', 'c'])\n",
    "\n",
    "s['a'] == s.loc['a']  # access by label\n",
    "s[0] == s.iloc[0]  # access by position\n",
    "\n",
    "# Dataframe\n",
    "df1 = pd.DataFrame({\"var\": [1, 2, 3], \"column2\": [0, 0, 0]})\n",
    "df = pd.DataFrame({\n",
    "    'age': [10, 20, 30],\n",
    "    'name': ['Alice', 'Bob', 'Carol']\n",
    "}, index=['a', 'b', 'c'])\n",
    "\n",
    "df['age']  # returns column 'age'\n",
    "df.loc['b']  # returns row with index 'b'\n",
    "df.iloc[1]  # return row at position 1\n",
    "    # without setting index in df loc[] == iloc[]"
   ]
  },
  {
   "cell_type": "code",
   "execution_count": null,
   "metadata": {},
   "outputs": [
    {
     "ename": "TypeError",
     "evalue": "read_csv() missing 1 required positional argument: 'filepath_or_buffer'",
     "output_type": "error",
     "traceback": [
      "\u001b[1;31m---------------------------------------------------------------------------\u001b[0m",
      "\u001b[1;31mTypeError\u001b[0m                                 Traceback (most recent call last)",
      "Cell \u001b[1;32mIn[27], line 2\u001b[0m\n\u001b[0;32m      1\u001b[0m \u001b[38;5;66;03m# Imports\u001b[39;00m\n\u001b[1;32m----> 2\u001b[0m pd\u001b[38;5;241m.\u001b[39mread_csv()\n\u001b[0;32m      3\u001b[0m pd\u001b[38;5;241m.\u001b[39mread_json()\n\u001b[0;32m      5\u001b[0m \u001b[38;5;66;03m# Inspecting df\u001b[39;00m\n",
      "\u001b[1;31mTypeError\u001b[0m: read_csv() missing 1 required positional argument: 'filepath_or_buffer'"
     ]
    }
   ],
   "source": [
    "# Imports\n",
    "pd.read_csv()\n",
    "pd.read_json()\n",
    "\n",
    "# Inspecting df\n",
    "df.describe()\n",
    "df.columns\n",
    "df.values\n",
    "df.shape\n",
    "\n",
    "# Changing df\n",
    "df1.set_index('var', inplace=True)\n",
    "df.stack().unstack()\n",
    "df.reset_index()\n",
    "\n",
    "df.rename(columns = {'Age': 'age'})\n",
    "df.drop('tmp', axis = 1, inplace = True)\n",
    "df.copy(deep = True)\n",
    "\n",
    "# Masking and filtering\n",
    "df.loc[(df['course_title'] == 'Advanced Econometrics') & (~df['c_improve'].isnull())]\n",
    "df['Sales'].idxmax()\n",
    "\n",
    "# Aggregate functions\n",
    "df[\"c_value\"].apply(lambda x: len(str(x)))\n",
    "df.transform(lambda x: np.power(x, 2))\n",
    "df.aggregate([np.mean, np.std, np.min, np.max], axis = 0)\n",
    "\n",
    "# Missing values\n",
    "df.isna().any()\n",
    "df.notnull().sum()\n",
    "df.dropna()"
   ]
  },
  {
   "cell_type": "code",
   "execution_count": null,
   "metadata": {},
   "outputs": [],
   "source": [
    "df.merge(df1, how = 'left', on = 'iso_code')\n",
    "df.groupby('continent', observed = False)\n",
    "df.groupby('YrSold')[['LotArea', 'SalePrice']].mean()\n",
    "df[['YrSold', 'LotArea']].groupby('YrSold').agg([\"mean\", \"min\", \"max\"])"
   ]
  },
  {
   "cell_type": "markdown",
   "metadata": {},
   "source": [
    "# Matplotlib"
   ]
  },
  {
   "cell_type": "code",
   "execution_count": 28,
   "metadata": {},
   "outputs": [
    {
     "ename": "TypeError",
     "evalue": "hist() missing 1 required positional argument: 'x'",
     "output_type": "error",
     "traceback": [
      "\u001b[1;31m---------------------------------------------------------------------------\u001b[0m",
      "\u001b[1;31mTypeError\u001b[0m                                 Traceback (most recent call last)",
      "Cell \u001b[1;32mIn[28], line 4\u001b[0m\n\u001b[0;32m      1\u001b[0m \u001b[38;5;28;01mimport\u001b[39;00m \u001b[38;5;21;01mmatplotlib\u001b[39;00m\u001b[38;5;21;01m.\u001b[39;00m\u001b[38;5;21;01mpyplot\u001b[39;00m \u001b[38;5;28;01mas\u001b[39;00m \u001b[38;5;21;01mplt\u001b[39;00m\n\u001b[0;32m      3\u001b[0m plt\u001b[38;5;241m.\u001b[39mfigure(figsize \u001b[38;5;241m=\u001b[39m (\u001b[38;5;241m20\u001b[39m,\u001b[38;5;241m10\u001b[39m))\n\u001b[1;32m----> 4\u001b[0m plt\u001b[38;5;241m.\u001b[39mhist()\n",
      "\u001b[1;31mTypeError\u001b[0m: hist() missing 1 required positional argument: 'x'"
     ]
    },
    {
     "data": {
      "text/plain": [
       "<Figure size 2000x1000 with 0 Axes>"
      ]
     },
     "metadata": {},
     "output_type": "display_data"
    }
   ],
   "source": [
    "import matplotlib.pyplot as plt\n",
    "\n",
    "plt.figure(figsize = (20,10))\n",
    "plt.hist()"
   ]
  },
  {
   "cell_type": "markdown",
   "metadata": {},
   "source": [
    "# Imports"
   ]
  },
  {
   "cell_type": "code",
   "execution_count": null,
   "metadata": {},
   "outputs": [],
   "source": [
    "import zipfile\n",
    "import os\n",
    "import json\n",
    "\n",
    "directory = ''\n",
    "file_path = os.path.join(directory, '')\n",
    "os.makedirs(directory, exist_ok=True)\n",
    "\n",
    "with zipfile.ZipFile(file_path, 'r') as z:\n",
    "    print(z.namelist())\n",
    "\n",
    "    csv_file_path = ''\n",
    "    with z.open(csv_file_path, 'r') as f:\n",
    "        df = pd.read_csv(f)\n",
    "\n",
    "json_file_path = ''\n",
    "data = []\n",
    "with open(json_file_path, 'w') as f:\n",
    "    json.dump(data, f)\n",
    "\n",
    "with open(json_file_path, 'r') as f:\n",
    "    data = json.load(f)"
   ]
  },
  {
   "cell_type": "markdown",
   "metadata": {},
   "source": [
    "# BeautifulSoup"
   ]
  },
  {
   "cell_type": "code",
   "execution_count": null,
   "metadata": {},
   "outputs": [],
   "source": [
    "import bs4 as BeautifulSoup\n",
    "\n",
    "data = []\n",
    "soup = BeautifulSoup(data)\n",
    "soup.find_all('course')\n",
    "soup.find('course', {'id': '011'})\n",
    "soup.findNext('course')\n",
    "soup.findPrevious('course')\n",
    "soup.child.parent"
   ]
  },
  {
   "cell_type": "markdown",
   "metadata": {},
   "source": [
    "# Requests"
   ]
  },
  {
   "cell_type": "code",
   "execution_count": null,
   "metadata": {},
   "outputs": [],
   "source": [
    "import requests\n",
    "url = ''\n",
    "\n",
    "response = requests.get(url)\n",
    "data = response.json()"
   ]
  }
 ],
 "metadata": {
  "kernelspec": {
   "display_name": "base",
   "language": "python",
   "name": "python3"
  },
  "language_info": {
   "codemirror_mode": {
    "name": "ipython",
    "version": 3
   },
   "file_extension": ".py",
   "mimetype": "text/x-python",
   "name": "python",
   "nbconvert_exporter": "python",
   "pygments_lexer": "ipython3",
   "version": "3.11.7"
  }
 },
 "nbformat": 4,
 "nbformat_minor": 2
}
